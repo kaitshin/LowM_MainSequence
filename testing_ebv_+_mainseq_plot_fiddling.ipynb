{
 "cells": [
  {
   "cell_type": "code",
   "execution_count": 2,
   "metadata": {},
   "outputs": [],
   "source": [
    "from astropy.io import fits as pyfits, ascii as asc\n",
    "from astropy.table import Table\n",
    "from create_ordered_AP_arrays import create_ordered_AP_arrays\n",
    "import numpy as np, matplotlib.pyplot as plt\n",
    "import plotting.general_plotting as general_plotting\n",
    "import plotting_NII_Ha_ratios\n",
    "\n",
    "from analysis.cardelli import *\n",
    "from astropy.cosmology import FlatLambdaCDM\n",
    "from scipy import stats\n",
    "from scipy.interpolate import interp1d\n",
    "cosmo = FlatLambdaCDM(H0 = 70 * u.km / u.s / u.Mpc, Om0=0.3)\n",
    "\n",
    "\n",
    "FULL_PATH = '/Users/kaitlynshin/GoogleDrive/NASA_Summer2015/'"
   ]
  },
  {
   "cell_type": "code",
   "execution_count": 3,
   "metadata": {},
   "outputs": [],
   "source": [
    "import create_ordered_AP_arrays\n",
    "reload(create_ordered_AP_arrays)\n",
    "from create_ordered_AP_arrays import create_ordered_AP_arrays"
   ]
  },
  {
   "cell_type": "code",
   "execution_count": null,
   "metadata": {},
   "outputs": [],
   "source": []
  },
  {
   "cell_type": "markdown",
   "metadata": {},
   "source": [
    "## EBV_corrections.py"
   ]
  },
  {
   "cell_type": "code",
   "execution_count": 4,
   "metadata": {},
   "outputs": [],
   "source": [
    "def apply_filt_corrs_interp(ff, filt_corrs, zspec0, bad_z, good_z, AP, allcolsdata):\n",
    "    '''\n",
    "    Applies the filter-based correction.\n",
    "\n",
    "    Accepts only no/yes_spectra sources with filter matches.\n",
    "\n",
    "    For the sources with no_spectra (bad_z), a statistical correction based on\n",
    "    the filter response profile was provided.\n",
    "    For the ones with a yes_spectra (good_z), the relevant filter response .dat file\n",
    "    was read in and interpolated to try and find what kind of flux a source \n",
    "    with that zspec would have in the filter response. the flux filter correction\n",
    "    factor was returned.\n",
    "\n",
    "    (filt_corrs = filter_corrected_fluxes - orig_NB_flux_from_allcolsdata)\n",
    "    '''\n",
    "    print ff, len(bad_z)+len(good_z)\n",
    "    # reading data\n",
    "    response = asc.read(FULL_PATH+'Filters/'+ff+'response.dat',guess=False,\n",
    "                    Reader=asc.NoHeader)\n",
    "    z_filt = response['col1'].data/6562.8 - 1\n",
    "    yresponse = np.array(response['col2'])\n",
    "\n",
    "    filter_stat_corr_dict = {'NB704':1.289439104, 'NB711':1.41022358406, 'NB816':1.29344789854, 'NB921':1.32817034288, 'NB973':1.29673596942}\n",
    "    filt_corrs[bad_z] = np.log10(filter_stat_corr_dict[ff]) # np.log10(1.28)\n",
    "    \n",
    "    f = interp1d(z_filt, response['col2'])\n",
    "\n",
    "    if max(zspec0[good_z]) > max(z_filt):\n",
    "        print 'Source above filter profile range (', ff, '|| z =', max(zspec0[good_z]), ')'\n",
    "        bad_z0 = np.array([x for x in good_z if zspec0[x] == max(zspec0[good_z])])\n",
    "        DEIMOS = pyfits.open('/Users/kaitlynshin/GoogleDrive/NASA_Summer2015/Main_Sequence/Catalogs/Keck/DEIMOS_single_line_fit.fits')\n",
    "        DEIMOSdata = DEIMOS[1].data\n",
    "        print 'Source name:', AP[bad_z0]\n",
    "        ii = np.where(DEIMOSdata['AP']==AP[bad_z0])[0]\n",
    "        keck_flux = np.log10(DEIMOSdata['HA_FLUX_MOD'][ii])\n",
    "        filtcorr_bflux = np.log10(10**keck_flux + 0.8e-17*1.33)\n",
    "        print '>>>>>>> Filter-corrected excess flux:', filtcorr_bflux\n",
    "        jj = np.where(zspec0==max(zspec0[good_z]))[0]\n",
    "        filt_corrs[bad_z0] = filtcorr_bflux - allcolsdata[ff+'_FLUX'][jj]\n",
    "\n",
    "        good_z = np.array([x for x in good_z if zspec0[x] != max(zspec0[good_z])])\n",
    "\n",
    "        DEIMOS.close()\n",
    "\n",
    "    filt_corrs[good_z] = np.log10(1.0/(f(zspec0[good_z])/max(yresponse)))\n",
    "\n",
    "    # these are the filter correction factors\n",
    "    return filt_corrs\n",
    "\n",
    "\n",
    "def consolidate_ns_ys(orig_fluxes, no_spectra, yes_spectra, data_ns, data_ys, datatype='num'):\n",
    "    '''\n",
    "    consolidates no_spectra and yes_spectra data into a single data_array\n",
    "    of shape orig_fluxes (same as allcolsdata)\n",
    "    '''\n",
    "    consod = np.zeros(len(orig_fluxes))\n",
    "    if datatype == 'str':\n",
    "        consod = np.array(['']*len(orig_fluxes), dtype='|S10')\n",
    "\n",
    "    consod[no_spectra] = data_ns\n",
    "    consod[yes_spectra] = data_ys\n",
    "\n",
    "    return consod\n",
    "\n",
    "\n",
    "def get_bins(masslist_MMT, masslist_Keck, massZlist_MMT, massZlist_Keck):\n",
    "    '''\n",
    "    Helper function for main. Flattens ndarrays of bins into a bins array\n",
    "\n",
    "    Doesn't include the max_mass as an upper bound to the mass bins so that\n",
    "    sources that have m > m_max_bin will automatically fall into the highest\n",
    "    bin.\n",
    "    Ex:\n",
    "      >>> x = np.array([5.81, 6.78, 7.12, 7.94, 9.31])\n",
    "      >>> bins = np.array([6.2, 7.53, 9.31]) \n",
    "      >>> np.digitize(x, bins, right=True)\n",
    "      array([0, 1, 1, 2, 2]) # instead of array([0, 1, 1, 2, 3])\n",
    "    '''\n",
    "    massbins_MMT = np.append(masslist_MMT[:,0], masslist_MMT[-1,-1])\n",
    "    massbins_Keck = np.append(masslist_Keck[:,0], masslist_Keck[-1,-1])\n",
    "    massZbins_MMT = np.append(massZlist_MMT[:,0], massZlist_MMT[-1,-1])\n",
    "    massZbins_Keck = np.append(massZlist_Keck[:,0], massZlist_Keck[-1,-1])\n",
    "\n",
    "    return massbins_MMT, massbins_Keck, massZbins_MMT, massZbins_Keck\n",
    "\n",
    "\n",
    "def fix_masses_out_of_range(masses_MMT_ii, masses_Keck_ii, masstype):\n",
    "    '''\n",
    "    Fixes masses that were not put into bins because they were too low.\n",
    "    Reassigns them to the lowest mass bin. \n",
    "\n",
    "    Does this for both stlrmass bins and stlrmassZ bins.\n",
    "    '''\n",
    "    if masstype=='stlrmass':\n",
    "        masses_MMT_ii = np.array([1 if x==0 else x for x in masses_MMT_ii])\n",
    "        masses_Keck_ii = np.array([1 if x==0 else x for x in masses_Keck_ii])\n",
    "    else: #=='stlrmassZ'\n",
    "        masses_MMT_ii = np.array(['1'+x[1:] if x[0]=='0' else x for x in masses_MMT_ii])\n",
    "        masses_Keck_ii = np.array(['1'+x[1:] if x[0]=='0' else x for x in masses_Keck_ii])\n",
    "\n",
    "    return masses_MMT_ii, masses_Keck_ii\n",
    "\n",
    "\n",
    "def bins_table_no_spectra(indexes, NAME0, AP, stlr_mass, massbins_MMT, massbins_Keck, \n",
    "    massZbins_MMT, massZbins_Keck, massZlist_filts_MMT, massZlist_filts_Keck):\n",
    "    '''\n",
    "    Creates and returns a table of bins as such:\n",
    "\n",
    "    NAME             stlrmass filter stlrmassbin_MMT stlrmassbin_Keck stlrmassZbin_MMT stlrmassZbin_Keck\n",
    "    ---------------- -------- ------ --------------- ---------------- ---------------- -----------------\n",
    "    Ha-NB973_178201  8.4      NB973  4               3                2-NB973          2-NB973\n",
    "\n",
    "    WARNINGS: \n",
    "    - dual Ha-NB704/Ha-NB711 sources are being treated as Ha-NB704 sources for now, but\n",
    "      we may have to use photometry to better determine which EBV values to use\n",
    "    - Ha-NB704+OII-NB973 sources are being treated as Ha-NB704 sources for now, but \n",
    "      they may be excluded as they may be something else given the NB973 excess\n",
    "    '''\n",
    "    names = NAME0[indexes]\n",
    "    masses = stlr_mass[indexes]\n",
    "\n",
    "    # get redshift bins\n",
    "    filts = np.array([x[x.find('Ha-')+3:x.find('Ha-')+8] for x in names])\n",
    "    \n",
    "    # this ensures that NB704+NB921 dual emitters will be placed in Ha-NB921 bins\n",
    "    #  since these sources are likely OIII-NB704 and Ha-NB921\n",
    "    dual_iis = [x for x in range(len(names)) if 'Ha-NB704' in names[x] and 'Ha-NB921' in names[x]]\n",
    "    filts[dual_iis] = 'NB921'\n",
    "    \n",
    "    # this ensures that the NB816+NB921 dual emitter will be placed in the NB921 bin\n",
    "    #  we decided this based on visual inspection of the photometry\n",
    "    dual_ii2 = [x for x in range(len(names)) if 'Ha-NB816' in names[x] and 'Ha-NB921' in names[x]]\n",
    "    filts[dual_ii2] = 'NB921'\n",
    "\n",
    "    # get stlrmass bins\n",
    "    masses_MMT_ii = np.digitize(masses, massbins_MMT, right=True)\n",
    "    masses_Keck_ii = np.digitize(masses, massbins_Keck, right=True)\n",
    "    masses_MMT, masses_Keck = fix_masses_out_of_range(masses_MMT_ii, masses_Keck_ii, 'stlrmass')\n",
    "    \n",
    "    # get stlrmassZ bins\n",
    "    ii0 = 0\n",
    "    ii1 = 0\n",
    "    massZs_MMT = np.array(['UNFILLED']*len(indexes))\n",
    "    massZs_Keck = np.array(['UNFILLED']*len(indexes))\n",
    "    for ff in ['NB704','NB711','NB816','NB921','NB973']:\n",
    "        jj = len(np.where(ff==massZlist_filts_MMT)[0])        \n",
    "        \n",
    "        good_filt_iis = np.array([x for x in range(len(filts)) if filts[x]==ff])\n",
    "        \n",
    "        if ff=='NB973':\n",
    "            jj += 1\n",
    "        \n",
    "        mass_MMT_iis  = np.digitize(masses[good_filt_iis], massZbins_MMT[ii0:ii0+jj], right=True)\n",
    "        massZ_MMT_iis = np.array([str(x)+'-'+ff for x in mass_MMT_iis])\n",
    "        massZs_MMT[good_filt_iis] = massZ_MMT_iis\n",
    "        \n",
    "        ii0+=jj\n",
    "        if 'NB9' in ff:\n",
    "            kk = len(np.where(ff==massZlist_filts_Keck)[0])\n",
    "\n",
    "            if ff=='NB973':\n",
    "                kk += 1\n",
    "                \n",
    "            mass_Keck_iis  = np.digitize(masses[good_filt_iis], massZbins_Keck[ii1:ii1+kk], right=True)\n",
    "            massZ_Keck_iis = np.array([str(x)+'-'+ff for x in mass_Keck_iis])\n",
    "            massZs_Keck[good_filt_iis] = massZ_Keck_iis\n",
    "            \n",
    "            ii1+=kk\n",
    "        else:\n",
    "            massZs_Keck[good_filt_iis] = np.array(['N/A']*len(good_filt_iis))\n",
    "            masses_Keck[good_filt_iis] = -99\n",
    "    \n",
    "    # putting sources with m < m_min_bin in the lowest-massZ mass bin\n",
    "    massZs_MMT, massZs_Keck = fix_masses_out_of_range(massZs_MMT, massZs_Keck, 'stlrmassZ')\n",
    "\n",
    "        \n",
    "    tab0 = Table([names, masses, filts, masses_MMT, masses_Keck, massZs_MMT, massZs_Keck], \n",
    "        names=['NAME', 'stlrmass', 'filter', 'stlrmassbin_MMT', 'stlrmassbin_Keck', \n",
    "               'stlrmassZbin_MMT', 'stlrmassZbin_Keck'])\n",
    "\n",
    "    return tab0\n",
    "\n",
    "\n",
    "def EBV_corrs_no_spectra(tab_no_spectra, mmt_mz, mmt_mz_EBV_hahb, mmt_mz_EBV_hghb, keck_mz, keck_mz_EBV_hahb):\n",
    "    '''\n",
    "    '''\n",
    "    EBV_corrs = np.array([-100.0]*len(tab_no_spectra))\n",
    "\n",
    "    # loop based on filter\n",
    "    for ff in ['NB704', 'NB711', 'NB816', 'NB921', 'NB973']:\n",
    "        bin_filt_iis = np.array([x for x in range(len(tab_no_spectra)) if tab_no_spectra['filter'][x]==ff])\n",
    "        print 'num in '+ff+':', len(bin_filt_iis)\n",
    "\n",
    "        if ff=='NB704' or ff=='NB711' or ff=='NB816':\n",
    "            tab_filt_iis = np.array([x for x in range(len(mmt_mz)) if \n",
    "                (mmt_mz['filter'][x]==ff and mmt_mz['stlrmass_bin'][x] != 'N/A')])\n",
    "            m_bin = np.array([int(x[0])-1 for x in tab_no_spectra['stlrmassZbin_MMT'][bin_filt_iis]])\n",
    "\n",
    "            for ii, m_i in enumerate(m_bin):\n",
    "                EBV_corrs[bin_filt_iis[ii]] = mmt_mz_EBV_hahb[tab_filt_iis[m_i]]\n",
    "\n",
    "        elif ff == 'NB921':\n",
    "            # for sources that fall within the keck mass range\n",
    "            bin_filt_iis_keck = np.array([x for x in range(len(tab_no_spectra)) if \n",
    "                (tab_no_spectra['filter'][x]==ff and tab_no_spectra['stlrmass'][x]<=9.78)])\n",
    "            tab_filt_iis_keck = np.array([x for x in range(len(keck_mz)) if \n",
    "                (keck_mz['filter'][x]==ff and keck_mz['stlrmass_bin'][x] != 'N/A')])\n",
    "            m_bin_keck = np.array([int(x[0])-1 for x in tab_no_spectra['stlrmassZbin_Keck'][bin_filt_iis_keck]])\n",
    "\n",
    "            for ii, m_i in enumerate(m_bin_keck):\n",
    "                EBV_corrs[bin_filt_iis_keck[ii]] = keck_mz_EBV_hahb[tab_filt_iis_keck[m_i]]\n",
    "\n",
    "            # for sources that fall above the keck mass range (so we use mmt)\n",
    "            bin_filt_iis_mmt = np.array([x for x in range(len(tab_no_spectra)) if \n",
    "                (tab_no_spectra['filter'][x]==ff and tab_no_spectra['stlrmass'][x]>9.78)])\n",
    "            tab_filt_iis_mmt = np.array([x for x in range(len(mmt_mz)) if \n",
    "                (mmt_mz['filter'][x]==ff and mmt_mz['stlrmass_bin'][x] != 'N/A')])\n",
    "            m_bin_mmt = np.array([int(x[0])-1 for x in tab_no_spectra['stlrmassZbin_MMT'][bin_filt_iis_mmt]])\n",
    "\n",
    "            for ii, m_i in enumerate(m_bin_mmt):\n",
    "                EBV_corrs[bin_filt_iis_mmt[ii]] = mmt_mz_EBV_hghb[tab_filt_iis_mmt[m_i]]\n",
    "            \n",
    "        elif ff == 'NB973':\n",
    "            tab_filt_iis = np.array([x for x in range(len(keck_mz)) if \n",
    "                (keck_mz['filter'][x]==ff and keck_mz['stlrmass_bin'][x] != 'N/A')])\n",
    "            m_bin = np.array([int(x[0])-1 for x in tab_no_spectra['stlrmassZbin_Keck'][bin_filt_iis]])\n",
    "\n",
    "            for ii, m_i in enumerate(m_bin):\n",
    "                EBV_corrs[bin_filt_iis[ii]] = keck_mz_EBV_hahb[tab_filt_iis[m_i]]\n",
    "    #endfor\n",
    "\n",
    "    assert len([x for x in EBV_corrs if x==-100.0]) == 0\n",
    "    return EBV_corrs\n"
   ]
  },
  {
   "cell_type": "code",
   "execution_count": 5,
   "metadata": {},
   "outputs": [
    {
     "name": "stdout",
     "output_type": "stream",
     "text": [
      "### done reading input files\n",
      "### creating ordered AP arr\n",
      "### done creating ordered AP arr\n",
      "### creating ordered LMIN0/LMAX0 arrs\n",
      "### done creating ordered LMIN0/LMAX0 arr\n",
      "### creating ordered SNR arrs\n",
      "### done creating ordered SNR arrs\n",
      "### creating ordered FLUX arrs\n",
      "### done creating ordered FLUX arrs\n",
      "### obtaining filter corrections\n",
      "NB704 134\n",
      "NB711 101\n",
      "NB816 218\n",
      "NB921 391\n",
      "Source above filter profile range ( NB921 || z = 0.4282 )\n",
      "Source name: ['36.090']\n",
      ">>>>>>> Filter-corrected excess flux: [-16.15316345]\n",
      "NB973 236\n",
      "### obtaining nii_ha corrections\n",
      "### done reading input files\n",
      "### creating ordered AP arr\n",
      "### done creating ordered AP arr\n",
      "### creating ordered LMIN0/LMAX0 arrs\n",
      "### done creating ordered LMIN0/LMAX0 arr\n",
      "### creating ordered SNR arrs\n",
      "### done creating ordered SNR arrs\n",
      "### creating ordered FLUX arrs\n",
      "### done creating ordered FLUX arrs\n",
      "C = 0.05378263129\n",
      "m = 0.169053785015 & b = -1.29864764883\n"
     ]
    }
   ],
   "source": [
    "# reading in data\n",
    "nbia = pyfits.open(FULL_PATH+'Catalogs/NB_IA_emitters.nodup.colorrev.fix.fits')\n",
    "nbiadata = nbia[1].data\n",
    "allcols = pyfits.open(FULL_PATH+'Catalogs/NB_IA_emitters.allcols.colorrev.fits')\n",
    "allcolsdata0 = allcols[1].data\n",
    "NAME0 = np.array(nbiadata['NAME'])\n",
    "ID0   = np.array(nbiadata['ID'])\n",
    "zspec = asc.read(FULL_PATH+'Catalogs/nb_ia_zspec.txt',guess=False,\n",
    "                 Reader=asc.CommentedHeader)\n",
    "zspec0 = np.array(zspec['zspec0'])\n",
    "inst_str0 = np.array(zspec['inst_str0'])\n",
    "fout  = asc.read(FULL_PATH+'FAST/outputs/NB_IA_emitters_allphot.emagcorr.ACpsf_fast.fout',\n",
    "                 guess=False,Reader=asc.NoHeader)\n",
    "stlr_mass = np.array(fout['col7'])\n",
    "data_dict = create_ordered_AP_arrays()\n",
    "AP = data_dict['AP']\n",
    "HA_FLUX   = data_dict['HA_FLUX']\n",
    "HB_FLUX   = data_dict['HB_FLUX']\n",
    "HB_SNR    = data_dict['HB_SNR']\n",
    "NIIB_FLUX = data_dict['NIIB_FLUX']\n",
    "NIIB_SNR  = data_dict['NIIB_SNR']\n",
    "NIIB_Ha_ratios = asc.read(FULL_PATH+'Main_Sequence/Catalogs/line_emission_ratios_table.dat',\n",
    "    guess=False,Reader=asc.CommentedHeader)\n",
    "ratio0 = np.array(NIIB_Ha_ratios['NII_Ha_ratio'])\n",
    "ratio1 = np.array(NIIB_Ha_ratios['OIIIR_HB_ratio'])\n",
    "coverage = np.array(NIIB_Ha_ratios['POOR_NIIB_COVERAGE'])\n",
    "\n",
    "\n",
    "# defining other useful data structs\n",
    "filtarr = np.array(['NB704', 'NB711', 'NB816', 'NB921', 'NB973'])\n",
    "inst_dict = {}\n",
    "inst_dict['MMT']  = ['MMT,FOCAS,','MMT,','merged,','MMT,Keck,']\n",
    "inst_dict['Keck'] = ['merged,','Keck,','Keck,Keck,','Keck,FOCAS,','Keck,FOCAS,FOCAS,','Keck,Keck,FOCAS,']\n",
    "\n",
    "\n",
    "# limit all data to Halpha emitters only\n",
    "ha_ii = np.array([x for x in range(len(NAME0)) if 'Ha-NB' in NAME0[x]])\n",
    "NAME0       = NAME0[ha_ii]\n",
    "\n",
    "# getting rid of special cases (no_spectra):\n",
    "bad_highz_gal = np.where(NAME0=='Ha-NB816_174829_Ha-NB921_187439_Lya-IA598_163379')[0]\n",
    "\n",
    "bad_HbNB704_SIINB973_gals = np.array([x for x in range(len(ha_ii)) if \n",
    "    (NAME0[x]=='Ha-NB704_028405_OII-NB973_056979' or \n",
    "        NAME0[x]=='Ha-NB704_090945_OII-NB973_116533')])\n",
    "\n",
    "# getting rid of a source w/o flux (yes_spectra):\n",
    "no_flux_gal = np.where(NAME0=='Ha-NB921_069950')[0]\n",
    "\n",
    "# getting rid of a source w/ atypical SFR behavior we don't understand\n",
    "weird_SFR_gal = np.where(NAME0=='OIII-NB704_063543_Ha-NB816_086540')[0]\n",
    "\n",
    "bad_sources = np.concatenate([bad_highz_gal, bad_HbNB704_SIINB973_gals, no_flux_gal, weird_SFR_gal])\n",
    "ha_ii = np.delete(ha_ii, bad_sources)\n",
    "NAME0 = np.delete(NAME0, bad_sources)\n",
    "\n",
    "ID0         = ID0[ha_ii]\n",
    "zspec0      = zspec0[ha_ii]\n",
    "inst_str0   = inst_str0[ha_ii]\n",
    "stlr_mass   = stlr_mass[ha_ii]\n",
    "AP          = AP[ha_ii]\n",
    "HA_FLUX     = HA_FLUX[ha_ii]\n",
    "HB_FLUX     = HB_FLUX[ha_ii]\n",
    "HB_SNR      = HB_SNR[ha_ii]\n",
    "NIIB_FLUX   = NIIB_FLUX[ha_ii]\n",
    "NIIB_SNR    = NIIB_SNR[ha_ii]\n",
    "allcolsdata = allcolsdata0[ha_ii]\n",
    "ratio0 = ratio0[ha_ii]\n",
    "ratio1 = ratio1[ha_ii]\n",
    "coverage = coverage[ha_ii]\n",
    "\n",
    "no_spectra  = np.where((zspec0 <= 0) | (zspec0 > 9))[0]\n",
    "yes_spectra = np.where((zspec0 >= 0) & (zspec0 < 9))[0]\n",
    "\n",
    "\n",
    "# reading in EBV data tables & getting relevant EBV cols\n",
    "mmt_z   = asc.read(FULL_PATH+'Composite_Spectra/Redshift/MMT_stacked_spectra_data.txt')\n",
    "mmt_z_EBV_hahb = np.array(mmt_z['E(B-V)_hahb'])\n",
    "mmt_z_EBV_hghb = np.array(mmt_z['E(B-V)_hghb'])\n",
    "\n",
    "keck_z  = asc.read(FULL_PATH+'Composite_Spectra/Redshift/Keck_stacked_spectra_data.txt')\n",
    "keck_z_EBV_hahb = np.array(keck_z['E(B-V)_hahb'])\n",
    "\n",
    "mmt_m   = asc.read(FULL_PATH+'Composite_Spectra/StellarMass/MMT_all_five_data.txt')\n",
    "mmt_m_EBV_hahb = np.array(mmt_m['E(B-V)_hahb'])\n",
    "mmt_m_EBV_hghb = np.array(mmt_m['E(B-V)_hghb'])\n",
    "\n",
    "keck_m  = asc.read(FULL_PATH+'Composite_Spectra/StellarMass/Keck_all_five_data.txt')\n",
    "keck_m_EBV_hahb = np.array(keck_m['E(B-V)_hahb'])\n",
    "\n",
    "mmt_mz  = asc.read(FULL_PATH+'Composite_Spectra/StellarMassZ/MMT_stlrmassZ_data.txt')\n",
    "mmt_mz_EBV_hahb = np.array(mmt_mz['E(B-V)_hahb'])\n",
    "mmt_mz_EBV_hghb = np.array(mmt_mz['E(B-V)_hghb'])\n",
    "\n",
    "keck_mz = asc.read(FULL_PATH+'Composite_Spectra/StellarMassZ/Keck_stlrmassZ_data.txt')\n",
    "keck_mz_EBV_hahb = np.array(keck_mz['E(B-V)_hahb'])\n",
    "\n",
    "\n",
    "# mass 'bin' lists made by reading in from files generated by the stack plots\n",
    "masslist_MMT  = np.array([x.split('-') for x in mmt_m['stlrmass_bin']], dtype=float) \n",
    "masslist_Keck = np.array([x.split('-') for x in keck_m['stlrmass_bin']], dtype=float)\n",
    "\n",
    "# same with massZ 'bin' lists (also getting the filts)\n",
    "massZlist_MMT  = np.array([x.split('-') for x in mmt_mz['stlrmass_bin'] if x!='N/A'], dtype=float)\n",
    "massZlist_Keck = np.array([x.split('-') for x in keck_mz['stlrmass_bin']], dtype=float)\n",
    "massZlist_filts_MMT  = np.array([mmt_mz['filter'][x] for x in range(len(mmt_mz)) if mmt_mz['stlrmass_bin'][x]!='N/A'])\n",
    "massZlist_filts_Keck = np.array([keck_mz['filter'][x] for x in range(len(keck_mz))])\n",
    "\n",
    "# splitting the 'bin' lists from above into a flattened bins array\n",
    "massbins_MMT, massbins_Keck, massZbins_MMT, massZbins_Keck = get_bins(masslist_MMT, \n",
    "    masslist_Keck, massZlist_MMT, massZlist_Keck)\n",
    "\n",
    "# getting tables of which bins the sources fall into (for eventual EBV corrections)\n",
    "tab_no_spectra = bins_table_no_spectra(no_spectra, NAME0, AP, stlr_mass, \n",
    "    massbins_MMT, massbins_Keck, massZbins_MMT, massZbins_Keck, massZlist_filts_MMT, massZlist_filts_Keck)\n",
    "tab_yes_spectra = bins_table_no_spectra(yes_spectra, NAME0, AP, stlr_mass, \n",
    "    massbins_MMT, massbins_Keck, massZbins_MMT, massZbins_Keck, massZlist_filts_MMT, massZlist_filts_Keck)\n",
    "FILT = consolidate_ns_ys(allcolsdata, no_spectra, yes_spectra,\n",
    "    np.array(tab_no_spectra['filter']), np.array(tab_yes_spectra['filter']), datatype='str')\n",
    "\n",
    "\n",
    "print '### obtaining filter corrections'\n",
    "#   TODO: correct nb704/nb711 dual emitters for both?\n",
    "orig_fluxes = np.zeros(len(allcolsdata))\n",
    "filt_corr_factor = np.zeros(len(allcolsdata))\n",
    "for filt in filtarr:\n",
    "    filt_ii = np.array([x for x in range(len(FILT)) if filt==FILT[x]])\n",
    "\n",
    "    no_spectra_temp  = np.array([x for x in filt_ii if x in no_spectra])\n",
    "    yes_spectra_temp = np.array([x for x in filt_ii if x in yes_spectra])\n",
    "\n",
    "    orig_fluxes[filt_ii] = allcolsdata[filt+'_FLUX'][filt_ii]\n",
    "    filt_corr_factor = apply_filt_corrs_interp(filt, filt_corr_factor, zspec0, \n",
    "        no_spectra_temp, yes_spectra_temp, AP, allcolsdata)\n",
    "#endfor\n",
    "\n",
    "\n",
    "print '### obtaining nii_ha corrections'\n",
    "linedict = plotting_NII_Ha_ratios.main()\n",
    "C = linedict['C']\n",
    "b = linedict['b']\n",
    "m = linedict['m']\n",
    "\n",
    "nii_ha_ratio = np.zeros(len(allcolsdata))\n",
    "ratio_vs_line = np.array(['']*len(allcolsdata), dtype='|S5')\n",
    "\n",
    "# NIIB_SNR >= 2\n",
    "highSNR = np.array([x for x in range(len(NIIB_SNR)) \n",
    "    if (NIIB_SNR[x] >= 2 and NIIB_FLUX[x] != 0 and HA_FLUX[x] < 99)])\n",
    "nii_ha_ratio[highSNR] = 1.33*NIIB_FLUX[highSNR]/HA_FLUX[highSNR]\n",
    "ratio_vs_line[highSNR] = 'ratio'\n",
    "\n",
    "# NIIB_SNR < 2\n",
    "lowSNR = np.array([x for x in range(len(NIIB_SNR)) if x not in highSNR])\n",
    "ratio_vs_line[lowSNR] = 'line'\n",
    "llow_m  = np.array([x for x in range(len(lowSNR)) if stlr_mass[lowSNR][x] <= 8])\n",
    "lhigh_m = np.array([x for x in range(len(lowSNR)) if stlr_mass[lowSNR][x] > 8])\n",
    "nii_ha_ratio[lowSNR[llow_m]] = C\n",
    "nii_ha_ratio[lowSNR[lhigh_m]] = m*(stlr_mass[lowSNR[lhigh_m]])+b\n",
    "\n",
    "nii_ha_corr_factor = np.log10(1/(1+nii_ha_ratio))"
   ]
  },
  {
   "cell_type": "code",
   "execution_count": null,
   "metadata": {},
   "outputs": [],
   "source": []
  },
  {
   "cell_type": "markdown",
   "metadata": {},
   "source": [
    "## doing EBV_corrs_yes_spectra now?"
   ]
  },
  {
   "cell_type": "code",
   "execution_count": 6,
   "metadata": {},
   "outputs": [
    {
     "data": {
      "text/html": [
       "&lt;Table length=373&gt;\n",
       "<table id=\"table4629412880\">\n",
       "<thead><tr><th>NAME</th><th>stlrmass</th><th>filter</th><th>stlrmassbin_MMT</th><th>stlrmassbin_Keck</th><th>stlrmassZbin_MMT</th><th>stlrmassZbin_Keck</th></tr></thead>\n",
       "<thead><tr><th>str67</th><th>float64</th><th>str5</th><th>int64</th><th>int64</th><th>str7</th><th>str7</th></tr></thead>\n",
       "<tr><td>Ha-NB704_001870</td><td>7.73</td><td>NB704</td><td>1</td><td>-99</td><td>2-NB704</td><td>N/A</td></tr>\n",
       "<tr><td>Ha-NB704_005232</td><td>6.71</td><td>NB704</td><td>1</td><td>-99</td><td>1-NB704</td><td>N/A</td></tr>\n",
       "<tr><td>OIII-NB704_006046_Ha-NB921_020459</td><td>7.81</td><td>NB921</td><td>2</td><td>1</td><td>1-NB921</td><td>1-NB921</td></tr>\n",
       "<tr><td>OIII-NB704_006189_Ha-NB921_021464</td><td>8.2</td><td>NB921</td><td>3</td><td>2</td><td>2-NB921</td><td>3-NB921</td></tr>\n",
       "<tr><td>OIII-NB704_007013_Ha-NB921_021654</td><td>7.84</td><td>NB921</td><td>2</td><td>1</td><td>1-NB921</td><td>1-NB921</td></tr>\n",
       "<tr><td>OIII-NB704_008072_Ha-NB921_024022</td><td>9.09</td><td>NB921</td><td>5</td><td>4</td><td>5-NB921</td><td>5-NB921</td></tr>\n",
       "<tr><td>OIII-NB704_008531_Ha-NB921_023840</td><td>8.45</td><td>NB921</td><td>3</td><td>3</td><td>4-NB921</td><td>3-NB921</td></tr>\n",
       "<tr><td>OIII-NB704_009828_Ha-NB921_025142</td><td>8.56</td><td>NB921</td><td>4</td><td>3</td><td>4-NB921</td><td>4-NB921</td></tr>\n",
       "<tr><td>Ha-NB704_009999</td><td>7.3</td><td>NB704</td><td>1</td><td>-99</td><td>1-NB704</td><td>N/A</td></tr>\n",
       "<tr><td>OIII-NB704_010455_Ha-NB921_026041</td><td>7.4</td><td>NB921</td><td>1</td><td>1</td><td>1-NB921</td><td>1-NB921</td></tr>\n",
       "<tr><td>...</td><td>...</td><td>...</td><td>...</td><td>...</td><td>...</td><td>...</td></tr>\n",
       "<tr><td>Ha-NB973_124312</td><td>9.05</td><td>NB973</td><td>5</td><td>4</td><td>4-NB973</td><td>3-NB973</td></tr>\n",
       "<tr><td>Ha-NB973_125544</td><td>9.27</td><td>NB973</td><td>5</td><td>5</td><td>4-NB973</td><td>4-NB973</td></tr>\n",
       "<tr><td>Ha-NB973_126933</td><td>9.67</td><td>NB973</td><td>5</td><td>5</td><td>5-NB973</td><td>5-NB973</td></tr>\n",
       "<tr><td>Ha-NB973_129244</td><td>8.31</td><td>NB973</td><td>3</td><td>3</td><td>2-NB973</td><td>2-NB973</td></tr>\n",
       "<tr><td>Ha-NB973_130853</td><td>7.71</td><td>NB973</td><td>1</td><td>1</td><td>1-NB973</td><td>1-NB973</td></tr>\n",
       "<tr><td>Ha-NB973_133678</td><td>8.55</td><td>NB973</td><td>4</td><td>3</td><td>2-NB973</td><td>2-NB973</td></tr>\n",
       "<tr><td>Ha-NB973_140158</td><td>7.82</td><td>NB973</td><td>2</td><td>1</td><td>1-NB973</td><td>1-NB973</td></tr>\n",
       "<tr><td>Ha-NB973_150230</td><td>7.89</td><td>NB973</td><td>2</td><td>1</td><td>1-NB973</td><td>1-NB973</td></tr>\n",
       "<tr><td>Ha-NB973_162426</td><td>8.84</td><td>NB973</td><td>4</td><td>4</td><td>3-NB973</td><td>3-NB973</td></tr>\n",
       "<tr><td>Ha-NB973_170475</td><td>8.07</td><td>NB973</td><td>2</td><td>2</td><td>2-NB973</td><td>2-NB973</td></tr>\n",
       "</table>"
      ],
      "text/plain": [
       "<Table length=373>\n",
       "               NAME               stlrmass ... stlrmassZbin_Keck\n",
       "              str67               float64  ...        str7      \n",
       "--------------------------------- -------- ... -----------------\n",
       "                  Ha-NB704_001870     7.73 ...               N/A\n",
       "                  Ha-NB704_005232     6.71 ...               N/A\n",
       "OIII-NB704_006046_Ha-NB921_020459     7.81 ...           1-NB921\n",
       "OIII-NB704_006189_Ha-NB921_021464      8.2 ...           3-NB921\n",
       "OIII-NB704_007013_Ha-NB921_021654     7.84 ...           1-NB921\n",
       "OIII-NB704_008072_Ha-NB921_024022     9.09 ...           5-NB921\n",
       "OIII-NB704_008531_Ha-NB921_023840     8.45 ...           3-NB921\n",
       "OIII-NB704_009828_Ha-NB921_025142     8.56 ...           4-NB921\n",
       "                  Ha-NB704_009999      7.3 ...               N/A\n",
       "OIII-NB704_010455_Ha-NB921_026041      7.4 ...           1-NB921\n",
       "                              ...      ... ...               ...\n",
       "                  Ha-NB973_124312     9.05 ...           3-NB973\n",
       "                  Ha-NB973_125544     9.27 ...           4-NB973\n",
       "                  Ha-NB973_126933     9.67 ...           5-NB973\n",
       "                  Ha-NB973_129244     8.31 ...           2-NB973\n",
       "                  Ha-NB973_130853     7.71 ...           1-NB973\n",
       "                  Ha-NB973_133678     8.55 ...           2-NB973\n",
       "                  Ha-NB973_140158     7.82 ...           1-NB973\n",
       "                  Ha-NB973_150230     7.89 ...           1-NB973\n",
       "                  Ha-NB973_162426     8.84 ...           3-NB973\n",
       "                  Ha-NB973_170475     8.07 ...           2-NB973"
      ]
     },
     "execution_count": 6,
     "metadata": {},
     "output_type": "execute_result"
    }
   ],
   "source": [
    "tab_yes_spectra"
   ]
  },
  {
   "cell_type": "code",
   "execution_count": 10,
   "metadata": {},
   "outputs": [
    {
     "data": {
      "text/plain": [
       "373"
      ]
     },
     "execution_count": 10,
     "metadata": {},
     "output_type": "execute_result"
    }
   ],
   "source": [
    "len(yes_spectra)"
   ]
  },
  {
   "cell_type": "code",
   "execution_count": 11,
   "metadata": {},
   "outputs": [
    {
     "data": {
      "text/plain": [
       "243"
      ]
     },
     "execution_count": 11,
     "metadata": {},
     "output_type": "execute_result"
    }
   ],
   "source": [
    "gg = np.where(HB_SNR[yes_spectra] >= 5)[0]\n",
    "len(gg)"
   ]
  },
  {
   "cell_type": "code",
   "execution_count": 12,
   "metadata": {},
   "outputs": [
    {
     "name": "stdout",
     "output_type": "stream",
     "text": [
      "33\n",
      "13\n",
      "31\n"
     ]
    },
    {
     "data": {
      "text/plain": [
       "162"
      ]
     },
     "execution_count": 12,
     "metadata": {},
     "output_type": "execute_result"
    }
   ],
   "source": [
    "print len(np.where(HA_FLUX[yes_spectra][gg] == -1)[0])\n",
    "print len(np.where(HA_FLUX[yes_spectra][gg] == 0)[0])\n",
    "print len(np.where(HA_FLUX[yes_spectra][gg] > 99)[0])\n",
    "\n",
    "ggg = np.where((HB_SNR[yes_spectra] >= 5) & (HA_FLUX[yes_spectra] > 1e-20) & (HA_FLUX[yes_spectra] < 99))[0]\n",
    "len(ggg)"
   ]
  },
  {
   "cell_type": "code",
   "execution_count": 13,
   "metadata": {},
   "outputs": [],
   "source": [
    "good_EBV_iis = yes_spectra[ggg]\n",
    "\n",
    "hahb = HA_FLUX[good_EBV_iis]/HB_FLUX[good_EBV_iis]\n",
    "hahb = np.array([2.86 if (x < 2.86 and x > 0) else x for x in hahb])"
   ]
  },
  {
   "cell_type": "code",
   "execution_count": 14,
   "metadata": {},
   "outputs": [],
   "source": [
    "k_hb = cardelli(4861 * u.Angstrom)\n",
    "k_ha = cardelli(6563 * u.Angstrom)\n",
    "\n",
    "EBV_hahb = np.log10((hahb)/2.86)/(-0.4*(k_ha - k_hb))"
   ]
  },
  {
   "cell_type": "code",
   "execution_count": 15,
   "metadata": {},
   "outputs": [
    {
     "data": {
      "text/plain": [
       "array([ 0.65952345,  0.15730329,  0.70797507,  0.07928244,  0.37595703,\n",
       "        0.46047257,  0.0745491 ,  0.        ,  0.        ,  0.00588278,\n",
       "        0.        ,  0.        ,  0.28847019,  0.        ,  0.23075396,\n",
       "        0.10610641,  0.16722952,  0.        ,  0.43095863,  0.39080689,\n",
       "        0.09208775,  0.35016038,  0.16487851,  0.        ,  0.3691403 ,\n",
       "        0.22659265,  0.25753989,  0.13000359,  0.2677368 ,  0.33048688,\n",
       "        0.3798872 ,  0.24944559,  0.288873  ,  0.        ,  0.        ,\n",
       "        0.03465158,  0.06264799,  0.08152886,  0.65655054,  0.25101432,\n",
       "        0.        ,  0.05770491,  0.1264168 ,  0.        ,  0.04598953,\n",
       "        0.        ,  0.        ,  0.        ,  0.63332573,  0.        ,\n",
       "        0.        ,  0.1225152 ,  0.        ,  0.02691998,  0.        ,\n",
       "        0.39110383,  0.08498065,  0.2499764 ,  0.        ,  0.        ,\n",
       "        0.01983627,  0.25924524,  0.        ,  0.        ,  0.45629928,\n",
       "        0.25295667,  0.        ,  0.18786674,  0.24849348,  0.        ,\n",
       "        0.05018776,  0.        ,  0.06502133,  0.        ,  0.        ,\n",
       "        0.        ,  0.        ,  0.32016216,  0.39054491,  0.61385902,\n",
       "        0.        ,  0.40459   ,  0.02254261,  0.10814138,  0.24020416,\n",
       "        0.22307964,  0.21512274,  0.39533086,  0.07190816,  0.27068734,\n",
       "        0.37627681,  0.03128802,  0.0919699 ,  0.3113012 ,  0.37389693,\n",
       "        0.22847481,  0.        ,  0.27106434,  0.0808737 ,  0.20223883,\n",
       "        0.11908329,  0.11977469,  0.        ,  0.18699635,  0.42053359,\n",
       "        0.12054245,  0.01369669,  0.        ,  0.        ,  0.        ,\n",
       "        0.05059413,  0.        ,  0.50052163,  0.28575184,  0.0460566 ,\n",
       "        0.0098003 ,  0.17392358,  0.41080955,  1.06372895,  0.40302883,\n",
       "        0.33850964,  0.3758943 ,  0.40886057,  0.        ,  0.62946363,\n",
       "        0.74522826,  0.        ,  0.20995114,  0.07790266,  0.        ,\n",
       "        0.        ,  0.40150834,  0.        ,  0.28193061,  0.41803909,\n",
       "        0.        ,  0.54931426,  0.08261731,  0.24491123,  0.29226111,\n",
       "        0.98701369,  0.06169433,  0.        ,  0.06597432,  1.26312698,\n",
       "        0.0902755 ,  0.        ,  0.73210536,  0.179582  ,  0.        ,\n",
       "        0.12708969,  0.43417465,  0.21751879,  0.48065625,  0.39797497,\n",
       "        0.        ,  0.30512858,  0.16082522,  0.0206699 ,  0.29349783,\n",
       "        0.10245251,  0.01884243])"
      ]
     },
     "execution_count": 15,
     "metadata": {},
     "output_type": "execute_result"
    }
   ],
   "source": [
    "EBV_hahb"
   ]
  },
  {
   "cell_type": "code",
   "execution_count": 16,
   "metadata": {},
   "outputs": [
    {
     "data": {
      "text/plain": [
       "162"
      ]
     },
     "execution_count": 16,
     "metadata": {},
     "output_type": "execute_result"
    }
   ],
   "source": [
    "len(EBV_hahb)"
   ]
  },
  {
   "cell_type": "code",
   "execution_count": 17,
   "metadata": {},
   "outputs": [
    {
     "data": {
      "text/plain": [
       "162"
      ]
     },
     "execution_count": 17,
     "metadata": {},
     "output_type": "execute_result"
    }
   ],
   "source": [
    "len(good_EBV_iis)"
   ]
  },
  {
   "cell_type": "code",
   "execution_count": 18,
   "metadata": {},
   "outputs": [
    {
     "ename": "NameError",
     "evalue": "name 'EBV_corrs_ys' is not defined",
     "output_type": "error",
     "traceback": [
      "\u001b[0;31m---------------------------------------------------------------------------\u001b[0m",
      "\u001b[0;31mNameError\u001b[0m                                 Traceback (most recent call last)",
      "\u001b[0;32m<ipython-input-18-fe3a0711cd97>\u001b[0m in \u001b[0;36m<module>\u001b[0;34m()\u001b[0m\n\u001b[0;32m----> 1\u001b[0;31m \u001b[0mEBV_corrs_ys\u001b[0m\u001b[0;34m[\u001b[0m\u001b[0mggg\u001b[0m\u001b[0;34m]\u001b[0m \u001b[0;34m=\u001b[0m \u001b[0mEBV_hahb\u001b[0m\u001b[0;34m\u001b[0m\u001b[0m\n\u001b[0m",
      "\u001b[0;31mNameError\u001b[0m: name 'EBV_corrs_ys' is not defined"
     ]
    }
   ],
   "source": [
    "EBV_corrs_ys[ggg] = EBV_hahb"
   ]
  },
  {
   "cell_type": "code",
   "execution_count": 19,
   "metadata": {},
   "outputs": [
    {
     "ename": "NameError",
     "evalue": "name 'EBV_corrs_ys' is not defined",
     "output_type": "error",
     "traceback": [
      "\u001b[0;31m---------------------------------------------------------------------------\u001b[0m",
      "\u001b[0;31mNameError\u001b[0m                                 Traceback (most recent call last)",
      "\u001b[0;32m<ipython-input-19-321ab4234339>\u001b[0m in \u001b[0;36m<module>\u001b[0;34m()\u001b[0m\n\u001b[0;32m----> 1\u001b[0;31m \u001b[0mtest\u001b[0m \u001b[0;34m=\u001b[0m \u001b[0mEBV_corrs_ys\u001b[0m\u001b[0;34m\u001b[0m\u001b[0m\n\u001b[0m\u001b[1;32m      2\u001b[0m \u001b[0mtestt\u001b[0m \u001b[0;34m=\u001b[0m \u001b[0mEBV_corrs_ys\u001b[0m\u001b[0;34m[\u001b[0m\u001b[0mggg\u001b[0m\u001b[0;34m]\u001b[0m\u001b[0;34m\u001b[0m\u001b[0m\n",
      "\u001b[0;31mNameError\u001b[0m: name 'EBV_corrs_ys' is not defined"
     ]
    }
   ],
   "source": [
    "test = EBV_corrs_ys\n",
    "testt = EBV_corrs_ys[ggg]"
   ]
  },
  {
   "cell_type": "code",
   "execution_count": 20,
   "metadata": {},
   "outputs": [
    {
     "data": {
      "text/plain": [
       "array(['Ha-NB704_001870', 'Ha-NB704_005232',\n",
       "       'OIII-NB704_008072_Ha-NB921_024022', 'Ha-NB704_009999',\n",
       "       'OIII-NB704_014219_Ha-NB921_031375',\n",
       "       'OIII-NB704_014628_Ha-NB921_032409', 'Ha-NB704_018318',\n",
       "       'OIII-NB704_018917_Ha-NB921_039277',\n",
       "       'OIII-NB704_022975_Ha-NB921_045096',\n",
       "       'OIII-NB704_023151_Ha-NB921_045274',\n",
       "       'OIII-NB704_026198_Ha-NB921_050258',\n",
       "       'OIII-NB704_036405_Ha-NB921_063205',\n",
       "       'Ha-NB704_036535_Ha-NB711_030935',\n",
       "       'Ha-NB704_038884_Ha-NB711_032808',\n",
       "       'OIII-NB704_045053_Ha-NB921_074096',\n",
       "       'OIII-NB704_045386_Ha-NB921_074253', 'Ha-NB704_045509',\n",
       "       'Ha-NB704_046420', 'Ha-NB704_046635',\n",
       "       'OIII-NB704_047277_Ha-NB921_076691',\n",
       "       'OIII-NB704_047852_Ha-NB921_077288',\n",
       "       'OIII-NB704_049237_Ha-NB921_078221',\n",
       "       'OIII-NB704_049936_Ha-NB921_079428_OIII-IA679_062450',\n",
       "       'OIII-NB704_050874_Ha-NB921_080954',\n",
       "       'OIII-NB704_051994_Ha-NB921_082395',\n",
       "       'OIII-NB704_053974_Ha-NB921_084866',\n",
       "       'OIII-NB704_054502_Ha-NB921_085332', 'Ha-NB704_059308',\n",
       "       'OIII-NB704_064938_Ha-NB921_097834',\n",
       "       'OIII-NB704_065690_Ha-NB921_098686',\n",
       "       'OIII-NB704_068293_Ha-NB921_101945',\n",
       "       'Ha-NB704_075294_Ha-NB711_059276',\n",
       "       'OIII-NB704_075697_Ha-NB921_110567', 'Ha-NB704_076423',\n",
       "       'Ha-NB704_078650_Ha-NB711_062213',\n",
       "       'OIII-NB704_083939_Ha-NB921_120389',\n",
       "       'OIII-NB704_088982_Ha-NB921_126525_OIII-IA679_112491',\n",
       "       'OIII-NB704_089683_Ha-NB921_127544',\n",
       "       'OIII-NB704_091490_Ha-NB921_129670', 'Ha-NB704_092132',\n",
       "       'OIII-NB704_092605_Ha-NB921_131123', 'Ha-NB704_093044',\n",
       "       'OIII-NB704_099728_Ha-NB921_139971',\n",
       "       'OIII-NB704_100513_Ha-NB921_139631',\n",
       "       'OIII-NB704_101233_Ha-NB921_141793',\n",
       "       'OIII-NB704_101364_Ha-NB921_141852',\n",
       "       'OIII-NB704_101968_Ha-NB921_142832',\n",
       "       'OIII-NB704_102796_Ha-NB921_143736',\n",
       "       'OIII-NB704_102918_Ha-NB921_143839',\n",
       "       'OIII-NB704_104515_Ha-NB921_145154',\n",
       "       'OIII-NB704_104972_Ha-NB921_146800',\n",
       "       'OIII-NB704_105238_Ha-NB921_147274',\n",
       "       'OIII-NB704_105465_Ha-NB921_147393', 'Ha-NB704_106242',\n",
       "       'OIII-NB704_107226_Ha-NB921_150262',\n",
       "       'OIII-NB704_109394_Ha-NB921_152361',\n",
       "       'OIII-NB704_109627_Ha-NB921_152799_OIII-IA679_140466',\n",
       "       'OIII-NB704_109832_Ha-NB921_153297',\n",
       "       'OIII-NB704_114264_Ha-NB921_159460',\n",
       "       'OIII-NB704_115078_Ha-NB921_160223',\n",
       "       'OIII-NB704_116143_OIII-NB711_092151_Ha-NB921_161808',\n",
       "       'OIII-NB704_117834_Ha-NB921_163919',\n",
       "       'OIII-NB704_118720_Ha-NB921_165087',\n",
       "       'OIII-NB704_118881_Ha-NB921_165192',\n",
       "       'OIII-NB704_119701_Ha-NB921_166360',\n",
       "       'OIII-NB704_121337_Ha-NB921_168358',\n",
       "       'OIII-NB704_122896_Ha-NB921_171055',\n",
       "       'OIII-NB704_123684_Ha-NB921_172159',\n",
       "       'OIII-NB704_124474_Ha-NB921_172736',\n",
       "       'OIII-NB704_128611_Ha-NB921_179592',\n",
       "       'OIII-NB704_133573_Ha-NB921_174702_OIII-IA679_168173',\n",
       "       'OIII-NB704_134269_OIII-NB711_111617_Ha-NB921_175362',\n",
       "       'OIII-NB711_044949_Ha-NB973_085127',\n",
       "       'OIII-NB711_069342_Ha-NB973_114595',\n",
       "       'OIII-NB711_077774_Ha-NB973_125003',\n",
       "       'OIII-NB711_102472_Ha-NB973_156739',\n",
       "       'OIII-NB711_110522_Ha-NB973_155435', 'Ha-NB816_012002',\n",
       "       'Ha-NB816_020228', 'Ha-NB816_025455', 'Ha-NB816_025692',\n",
       "       'Ha-NB816_029670', 'Ha-NB816_031656_OIII-IA598_044024',\n",
       "       'Ha-NB816_042325', 'Ha-NB816_043154', 'Ha-NB816_045343',\n",
       "       'Ha-NB816_049386', 'Ha-NB816_050400', 'Ha-NB816_050870',\n",
       "       'Ha-NB816_052912', 'Ha-NB816_053897', 'Ha-NB816_056578',\n",
       "       'Ha-NB816_063052_OIII-IA598_070330', 'Ha-NB816_063062',\n",
       "       'Ha-NB816_067584', 'Ha-NB816_068175', 'Ha-NB816_071024',\n",
       "       'Ha-NB816_071937', 'Ha-NB816_074041',\n",
       "       'Ha-NB816_074265_OIII-IA598_079058', 'Ha-NB816_077294',\n",
       "       'Ha-NB816_079172_OIII-IA598_082617', 'Ha-NB816_087125',\n",
       "       'Ha-NB816_087171', 'Ha-NB816_089082', 'Ha-NB816_089505',\n",
       "       'Ha-NB816_090999', 'Ha-NB816_092210_OIII-IA598_093442',\n",
       "       'Ha-NB816_131598', 'Ha-NB816_136351',\n",
       "       'Ha-NB816_153816_OIII-IA598_142084', 'Ha-NB921_047693',\n",
       "       'Ha-NB921_048488', 'Ha-NB921_051217', 'Ha-NB921_052748',\n",
       "       'Ha-NB921_064973', 'Ha-NB921_070116', 'Ha-NB921_072039',\n",
       "       'Ha-NB921_089650', 'Ha-NB921_093756', 'Ha-NB921_102230',\n",
       "       'Ha-NB921_131293', 'Ha-NB921_132191', 'Ha-NB921_132205',\n",
       "       'Ha-NB921_136733', 'Ha-NB921_161197', 'Ha-NB921_161690',\n",
       "       'Ha-NB973_046385', 'Ha-NB973_053649', 'Ha-NB973_054274',\n",
       "       'Ha-NB973_054540', 'Ha-NB973_064347', 'Ha-NB973_066061',\n",
       "       'Ha-NB973_068126', 'Ha-NB973_076803', 'Ha-NB973_076833',\n",
       "       'Ha-NB973_077632', 'Ha-NB973_080087', 'Ha-NB973_082280',\n",
       "       'Ha-NB973_084633', 'Ha-NB973_085126', 'Ha-NB973_088295',\n",
       "       'Ha-NB973_088437', 'Ha-NB973_088691', 'Ha-NB973_092976',\n",
       "       'Ha-NB973_094500', 'Ha-NB973_096416', 'Ha-NB973_099161',\n",
       "       'Ha-NB973_101877', 'Ha-NB973_102012', 'Ha-NB973_102051',\n",
       "       'Ha-NB973_103435', 'Ha-NB973_106613', 'Ha-NB973_109257',\n",
       "       'Ha-NB973_112974', 'Ha-NB973_119003', 'Ha-NB973_119352',\n",
       "       'Ha-NB973_124312', 'Ha-NB973_125544', 'Ha-NB973_126933',\n",
       "       'Ha-NB973_129244', 'Ha-NB973_133678'], \n",
       "      dtype='|S67')"
      ]
     },
     "execution_count": 20,
     "metadata": {},
     "output_type": "execute_result"
    }
   ],
   "source": [
    "NAME0[good_EBV_iis]"
   ]
  },
  {
   "cell_type": "code",
   "execution_count": null,
   "metadata": {},
   "outputs": [],
   "source": []
  },
  {
   "cell_type": "code",
   "execution_count": 21,
   "metadata": {},
   "outputs": [
    {
     "data": {
      "text/plain": [
       "162"
      ]
     },
     "execution_count": 21,
     "metadata": {},
     "output_type": "execute_result"
    }
   ],
   "source": [
    "len(ggg)"
   ]
  },
  {
   "cell_type": "code",
   "execution_count": 22,
   "metadata": {},
   "outputs": [],
   "source": [
    "def EBV_corrs_yes_spectra(EBV_corrs_ys, yes_spectra, HA_FLUX, HB_FLUX, HB_SNR):\n",
    "    '''\n",
    "    '''\n",
    "    k_hb = cardelli(4861 * u.Angstrom)\n",
    "    k_ha = cardelli(6563 * u.Angstrom)\n",
    "    \n",
    "    gooddata_iis = np.where((HB_SNR[yes_spectra] >= 5) & (HA_FLUX[yes_spectra] > 1e-20) & (HA_FLUX[yes_spectra] < 99))[0]\n",
    "    good_EBV_iis = yes_spectra[gooddata_iis]\n",
    "\n",
    "    hahb = HA_FLUX[good_EBV_iis]/HB_FLUX[good_EBV_iis]\n",
    "    hahb = np.array([2.86 if (x < 2.86 and x > 0) else x for x in hahb])\n",
    "    EBV_hahb = np.log10((hahb)/2.86)/(-0.4*(k_ha - k_hb))\n",
    "    \n",
    "    EBV_corrs_ys[gooddata_iis] = EBV_hahb\n",
    "    \n",
    "    return EBV_corrs_ys"
   ]
  },
  {
   "cell_type": "code",
   "execution_count": 23,
   "metadata": {},
   "outputs": [
    {
     "ename": "NameError",
     "evalue": "name 'EBV_corrs_ys' is not defined",
     "output_type": "error",
     "traceback": [
      "\u001b[0;31m---------------------------------------------------------------------------\u001b[0m",
      "\u001b[0;31mNameError\u001b[0m                                 Traceback (most recent call last)",
      "\u001b[0;32m<ipython-input-23-a6f35c9cd759>\u001b[0m in \u001b[0;36m<module>\u001b[0;34m()\u001b[0m\n\u001b[0;32m----> 1\u001b[0;31m \u001b[0mlen\u001b[0m\u001b[0;34m(\u001b[0m\u001b[0;34m[\u001b[0m\u001b[0mx\u001b[0m \u001b[0;32mfor\u001b[0m \u001b[0mx\u001b[0m \u001b[0;32min\u001b[0m \u001b[0mrange\u001b[0m\u001b[0;34m(\u001b[0m\u001b[0mlen\u001b[0m\u001b[0;34m(\u001b[0m\u001b[0mEBV_hahb\u001b[0m\u001b[0;34m)\u001b[0m\u001b[0;34m)\u001b[0m \u001b[0;32mif\u001b[0m \u001b[0mEBV_hahb\u001b[0m\u001b[0;34m[\u001b[0m\u001b[0mx\u001b[0m\u001b[0;34m]\u001b[0m\u001b[0;34m!=\u001b[0m\u001b[0;36m0\u001b[0m \u001b[0;32mand\u001b[0m \u001b[0mEBV_corrs_ys\u001b[0m\u001b[0;34m[\u001b[0m\u001b[0mggg\u001b[0m\u001b[0;34m]\u001b[0m\u001b[0;34m[\u001b[0m\u001b[0mx\u001b[0m\u001b[0;34m]\u001b[0m \u001b[0;34m==\u001b[0m \u001b[0;36m0\u001b[0m\u001b[0;34m]\u001b[0m\u001b[0;34m)\u001b[0m\u001b[0;34m\u001b[0m\u001b[0m\n\u001b[0m",
      "\u001b[0;31mNameError\u001b[0m: name 'EBV_corrs_ys' is not defined"
     ]
    }
   ],
   "source": [
    "len([x for x in range(len(EBV_hahb)) if EBV_hahb[x]!=0 and EBV_corrs_ys[ggg][x] == 0])"
   ]
  },
  {
   "cell_type": "code",
   "execution_count": 24,
   "metadata": {},
   "outputs": [
    {
     "name": "stdout",
     "output_type": "stream",
     "text": [
      "num in NB704: 21\n",
      "num in NB711: 3\n",
      "num in NB816: 50\n",
      "num in NB921: 208\n",
      "num in NB973: 91\n"
     ]
    }
   ],
   "source": [
    "EBV_corrs_ys = EBV_corrs_no_spectra(tab_yes_spectra, mmt_mz, mmt_mz_EBV_hahb, \n",
    "        mmt_mz_EBV_hghb, keck_mz, keck_mz_EBV_hahb)\n",
    "\n",
    "EBV_corrs_ys = EBV_corrs_yes_spectra(EBV_corrs_ys, yes_spectra, HA_FLUX, HB_FLUX, HB_SNR)"
   ]
  },
  {
   "cell_type": "code",
   "execution_count": 25,
   "metadata": {},
   "outputs": [
    {
     "data": {
      "text/plain": [
       "array([ 0.65952345,  0.15730329,  0.70797507,  0.07928244,  0.37595703,\n",
       "        0.46047257,  0.0745491 ,  0.        ,  0.        ,  0.00588278,\n",
       "        0.        ,  0.        ,  0.28847019,  0.        ,  0.23075396,\n",
       "        0.10610641,  0.16722952,  0.        ,  0.43095863,  0.39080689,\n",
       "        0.09208775,  0.35016038,  0.16487851,  0.        ,  0.3691403 ,\n",
       "        0.22659265,  0.25753989,  0.13000359,  0.2677368 ,  0.33048688,\n",
       "        0.3798872 ,  0.24944559,  0.288873  ,  0.        ,  0.        ,\n",
       "        0.03465158,  0.06264799,  0.08152886,  0.65655054,  0.25101432,\n",
       "        0.        ,  0.05770491,  0.1264168 ,  0.        ,  0.04598953,\n",
       "        0.        ,  0.        ,  0.        ,  0.63332573,  0.        ,\n",
       "        0.        ,  0.1225152 ,  0.        ,  0.02691998,  0.        ,\n",
       "        0.39110383,  0.08498065,  0.2499764 ,  0.        ,  0.        ,\n",
       "        0.01983627,  0.25924524,  0.        ,  0.        ,  0.45629928,\n",
       "        0.25295667,  0.        ,  0.18786674,  0.24849348,  0.        ,\n",
       "        0.05018776,  0.        ,  0.06502133,  0.        ,  0.        ,\n",
       "        0.        ,  0.        ,  0.32016216,  0.39054491,  0.61385902,\n",
       "        0.        ,  0.40459   ,  0.02254261,  0.10814138,  0.24020416,\n",
       "        0.22307964,  0.21512274,  0.39533086,  0.07190816,  0.27068734,\n",
       "        0.37627681,  0.03128802,  0.0919699 ,  0.3113012 ,  0.37389693,\n",
       "        0.22847481,  0.        ,  0.27106434,  0.0808737 ,  0.20223883,\n",
       "        0.11908329,  0.11977469,  0.        ,  0.18699635,  0.42053359,\n",
       "        0.12054245,  0.01369669,  0.        ,  0.        ,  0.        ,\n",
       "        0.05059413,  0.        ,  0.50052163,  0.28575184,  0.0460566 ,\n",
       "        0.0098003 ,  0.17392358,  0.41080955,  1.06372895,  0.40302883,\n",
       "        0.33850964,  0.3758943 ,  0.40886057,  0.        ,  0.62946363,\n",
       "        0.74522826,  0.        ,  0.20995114,  0.07790266,  0.        ,\n",
       "        0.        ,  0.40150834,  0.        ,  0.28193061,  0.41803909,\n",
       "        0.        ,  0.54931426,  0.08261731,  0.24491123,  0.29226111,\n",
       "        0.98701369,  0.06169433,  0.        ,  0.06597432,  1.26312698,\n",
       "        0.0902755 ,  0.        ,  0.73210536,  0.179582  ,  0.        ,\n",
       "        0.12708969,  0.43417465,  0.21751879,  0.48065625,  0.39797497,\n",
       "        0.        ,  0.30512858,  0.16082522,  0.0206699 ,  0.29349783,\n",
       "        0.10245251,  0.01884243])"
      ]
     },
     "execution_count": 25,
     "metadata": {},
     "output_type": "execute_result"
    }
   ],
   "source": [
    "EBV_corrs_ys[ggg]"
   ]
  },
  {
   "cell_type": "code",
   "execution_count": 26,
   "metadata": {},
   "outputs": [
    {
     "data": {
      "text/plain": [
       "array([ 0.65952345,  0.15730329,  0.11352465,  0.07422418,  0.11352465,\n",
       "        0.70797507,  0.07422418,  0.00600849,  0.07928244,  0.11352465,\n",
       "        0.00600849,  0.09364662,  0.00600849,  0.00600849,  0.37595703,\n",
       "        0.11352465,  0.46047257,  0.07422418,  0.13998411,  0.11352465,\n",
       "        0.11352465,  0.07422418,  0.0745491 ,  0.        ,  0.11352465,\n",
       "        0.07285908,  0.11352465,  0.11352465,  0.        ,  0.00588278,\n",
       "        0.07285908,  0.11352465,  0.13998411,  0.13998411,  0.        ,\n",
       "        0.09364662,  0.13998411,  0.13998411,  0.00600849,  0.11352465,\n",
       "        0.11352465,  0.13998411,  0.11352465,  0.07422418,  0.07422418,\n",
       "        0.13998411,  0.        ,  0.28847019,  0.07422418,  0.        ,\n",
       "        0.11352465,  0.23075396,  0.10610641,  0.13998411,  0.16722952,\n",
       "        0.        ,  0.43095863,  0.39080689,  0.11352465,  0.11352465,\n",
       "        0.09208775,  0.11352465,  0.11352465,  0.35016038,  0.11352465,\n",
       "        0.16487851,  0.        ,  0.13998411,  0.3691403 ,  0.00600849,\n",
       "        0.07285908,  0.22659265,  0.25753989,  0.11352465,  0.13998411,\n",
       "        0.07422418,  0.07422418,  0.13998411,  0.13000359,  0.07422418,\n",
       "        0.00600849,  0.11352465,  0.2677368 ,  0.00600849,  0.33048688,\n",
       "        0.3798872 ,  0.07285908,  0.07422418,  0.07422418,  0.13998411,\n",
       "        0.00600849,  0.13998411,  0.11352465,  0.07422418,  0.07422418,\n",
       "        0.24944559,  0.288873  ,  0.        ,  0.07422418,  0.07422418,\n",
       "        0.11352465,  0.        ,  0.11352465,  0.00600849,  0.00600849,\n",
       "        0.00600849,  0.13998411,  0.03465158,  0.00600849,  0.00600849,\n",
       "        0.06264799,  0.11352465,  0.08152886,  0.00600849,  0.00600849,\n",
       "        0.00600849,  0.65655054,  0.25101432,  0.        ,  0.13998411,\n",
       "        0.05770491,  0.13998411,  0.11352465,  0.11352465,  0.00600849,\n",
       "        0.00600849,  0.00600849,  0.1264168 ,  0.        ,  0.04598953,\n",
       "        0.        ,  0.        ,  0.07285908,  0.13998411,  0.        ,\n",
       "        0.63332573,  0.11352465,  0.13998411,  0.        ,  0.        ,\n",
       "        0.1225152 ,  0.        ,  0.13998411,  0.02691998,  0.        ,\n",
       "        0.07422418,  0.13998411,  0.39110383,  0.08498065,  0.07422418,\n",
       "        0.2499764 ,  0.07422418,  0.09364662,  0.        ,  0.        ,\n",
       "        0.01983627,  0.11352465,  0.13998411,  0.25924524,  0.        ,\n",
       "        0.07422418,  0.        ,  0.45629928,  0.11352465,  0.00600849,\n",
       "        0.13998411,  0.25295667,  0.11352465,  0.        ,  0.18786674,\n",
       "        0.24849348,  0.07422418,  0.07422418,  0.11352465,  0.11352465,\n",
       "        0.        ,  0.13998411,  0.13998411,  0.13998411,  0.11352465,\n",
       "        0.13998411,  0.00600849,  0.05018776,  0.00600849,  0.        ,\n",
       "        0.00600849,  0.09364662,  0.09364662,  0.        ,  0.06502133,\n",
       "        0.        ,  0.        ,  0.        ,  0.        ,  0.        ,\n",
       "        0.        ,  0.        ,  0.32016216,  0.00716361,  0.39054491,\n",
       "        0.61385902,  0.        ,  0.05469404,  0.40459   ,  0.05469404,\n",
       "        0.02254261,  0.05469404,  0.05469404,  0.00716361,  0.05469404,\n",
       "        0.05469404,  0.        ,  0.10814138,  0.05469404,  0.24020416,\n",
       "        0.00716361,  0.22307964,  0.        ,  0.21512274,  0.39533086,\n",
       "        0.07190816,  0.27068734,  0.37627681,  0.03128802,  0.04463918,\n",
       "        0.0919699 ,  0.3113012 ,  0.37389693,  0.22847481,  0.        ,\n",
       "        0.27106434,  0.0808737 ,  0.20223883,  0.        ,  0.11908329,\n",
       "        0.11977469,  0.        ,  0.18699635,  0.42053359,  0.12054245,\n",
       "        0.01369669,  0.        ,  0.05469404,  0.        ,  0.        ,\n",
       "        0.        ,  0.05059413,  0.28843061,  0.09364662,  0.11352465,\n",
       "        0.00600849,  0.        ,  0.50052163,  0.28843061,  0.00600849,\n",
       "        0.28575184,  0.0460566 ,  0.11352465,  0.11352465,  0.0098003 ,\n",
       "        0.17392358,  0.41080955,  0.11352465,  0.11352465,  0.00600849,\n",
       "        1.06372895,  0.09364662,  0.40302883,  0.13998411,  0.07422418,\n",
       "        0.33850964,  0.11352465,  0.13998411,  0.07422418,  0.11352465,\n",
       "        0.07422418,  0.07422418,  0.11352465,  0.13998411,  0.3758943 ,\n",
       "        0.40886057,  0.        ,  0.13998411,  0.62946363,  0.13998411,\n",
       "        0.74522826,  0.        ,  0.00600849,  0.05088965,  0.17226671,\n",
       "        0.        ,  0.05088965,  0.20995114,  0.        ,  0.07790266,\n",
       "        0.        ,  0.        ,  0.        ,  0.17226671,  0.05088965,\n",
       "        0.        ,  0.        ,  0.09401158,  0.40150834,  0.        ,\n",
       "        0.05088965,  0.09401158,  0.        ,  0.09401158,  0.28193061,\n",
       "        0.05088965,  0.        ,  0.        ,  0.41803909,  0.        ,\n",
       "        0.54931426,  0.08261731,  0.05088965,  0.        ,  0.17226671,\n",
       "        0.09401158,  0.09401158,  0.24491123,  0.        ,  0.29226111,\n",
       "        0.98701369,  0.17226671,  0.05088965,  0.06169433,  0.        ,\n",
       "        0.06597432,  0.05088965,  0.05088965,  1.26312698,  0.0902755 ,\n",
       "        0.        ,  0.05088965,  0.05088965,  0.        ,  0.05088965,\n",
       "        0.73210536,  0.05088965,  0.05088965,  0.09401158,  0.        ,\n",
       "        0.09401158,  0.        ,  0.179582  ,  0.        ,  0.12708969,\n",
       "        0.43417465,  0.09401158,  0.05088965,  0.21751879,  0.        ,\n",
       "        0.        ,  0.48065625,  0.        ,  0.39797497,  0.        ,\n",
       "        0.        ,  0.30512858,  0.17226671,  0.16082522,  0.0206699 ,\n",
       "        0.29349783,  0.10245251,  0.        ,  0.01884243,  0.        ,\n",
       "        0.        ,  0.05088965,  0.        ])"
      ]
     },
     "execution_count": 26,
     "metadata": {},
     "output_type": "execute_result"
    }
   ],
   "source": [
    "EBV_corrs_ys"
   ]
  },
  {
   "cell_type": "code",
   "execution_count": null,
   "metadata": {},
   "outputs": [],
   "source": []
  },
  {
   "cell_type": "code",
   "execution_count": null,
   "metadata": {},
   "outputs": [],
   "source": []
  },
  {
   "cell_type": "code",
   "execution_count": null,
   "metadata": {},
   "outputs": [],
   "source": []
  },
  {
   "cell_type": "markdown",
   "metadata": {},
   "source": [
    "### plotting M* vs EBV?"
   ]
  },
  {
   "cell_type": "code",
   "execution_count": 27,
   "metadata": {},
   "outputs": [],
   "source": [
    "corr_tbl = asc.read(FULL_PATH+'Main_Sequence/mainseq_corrections_tbl.txt',guess=False,\n",
    "                    Reader=asc.FixedWidthTwoLine)"
   ]
  },
  {
   "cell_type": "code",
   "execution_count": 28,
   "metadata": {},
   "outputs": [
    {
     "data": {
      "text/html": [
       "&lt;Table length=1080&gt;\n",
       "<table id=\"table4618675344\">\n",
       "<thead><tr><th>ID</th><th>NAME0</th><th>filt</th><th>inst_str0</th><th>zspec0</th><th>stlr_mass</th><th>obs_fluxes</th><th>obs_lumin</th><th>obs_sfr</th><th>filt_corr_factor</th><th>nii_ha_corr_factor</th><th>NII_Ha_ratio</th><th>ratio_vs_line</th><th>A_V</th><th>EBV</th><th>dust_corr_factor</th></tr></thead>\n",
       "<thead><tr><th>int64</th><th>str51</th><th>str5</th><th>str13</th><th>float64</th><th>float64</th><th>float64</th><th>float64</th><th>float64</th><th>float64</th><th>float64</th><th>float64</th><th>str5</th><th>float64</th><th>float64</th><th>float64</th></tr></thead>\n",
       "<tr><td>1</td><td>Ha-NB704_001870</td><td>NB704</td><td>MMT,</td><td>0.0724</td><td>7.73</td><td>-16.0044364929</td><td>39.1026327827</td><td>-2.25501263109</td><td>0.00733734433817</td><td>-0.022751036145</td><td>0.05378263129</td><td>line</td><td>1.67190157193</td><td>0.659523449619</td><td>1.67190157193</td></tr>\n",
       "<tr><td>4</td><td>Ha-NB704_005232</td><td>NB704</td><td>MMT,</td><td>0.0682</td><td>6.71</td><td>-16.057264328</td><td>38.9953448837</td><td>-2.36230053011</td><td>0.120403121769</td><td>-0.022751036145</td><td>0.05378263129</td><td>line</td><td>0.398766143474</td><td>0.15730329282</td><td>0.398766143474</td></tr>\n",
       "<tr><td>6</td><td>Ha-NB704_005332</td><td>NB704</td><td>N/A</td><td>-10.0</td><td>6.78</td><td>-17.1989383698</td><td>37.9234719142</td><td>-3.43417349957</td><td>0.110400836647</td><td>-0.022751036145</td><td>0.05378263129</td><td>line</td><td>0.184698824633</td><td>0.0728590773569</td><td>0.184698824633</td></tr>\n",
       "<tr><td>13</td><td>Ha-NB704_005572_OIII-IA598_028451</td><td>NB704</td><td>N/A</td><td>-10.0</td><td>5.81</td><td>-16.6326637268</td><td>38.4897465572</td><td>-2.86789885662</td><td>0.110400836647</td><td>-0.022751036145</td><td>0.05378263129</td><td>line</td><td>0.184698824633</td><td>0.0728590773569</td><td>0.184698824633</td></tr>\n",
       "<tr><td>24</td><td>Ha-NB704_005882</td><td>NB704</td><td>N/A</td><td>-10.0</td><td>7.12</td><td>-17.2085037231</td><td>37.9139065609</td><td>-3.44373885296</td><td>0.110400836647</td><td>-0.022751036145</td><td>0.05378263129</td><td>line</td><td>0.184698824633</td><td>0.0728590773569</td><td>0.184698824633</td></tr>\n",
       "<tr><td>26</td><td>Ha-NB704_005932</td><td>NB704</td><td>N/A</td><td>-10.0</td><td>5.98</td><td>-17.2530765533</td><td>37.8693337307</td><td>-3.48831168316</td><td>0.110400836647</td><td>-0.022751036145</td><td>0.05378263129</td><td>line</td><td>0.184698824633</td><td>0.0728590773569</td><td>0.184698824633</td></tr>\n",
       "<tr><td>30</td><td>OIII-NB704_006046_Ha-NB921_020459</td><td>NB921</td><td>MMT,</td><td>0.3977</td><td>7.81</td><td>-17.1826019287</td><td>39.5631519254</td><td>-1.79449348842</td><td>0.0224733687212</td><td>-0.022751036145</td><td>0.05378263129</td><td>line</td><td>0.287786632896</td><td>0.113524645271</td><td>0.287786632896</td></tr>\n",
       "<tr><td>42</td><td>OIII-NB704_006189_Ha-NB921_021464</td><td>NB921</td><td>MMT,</td><td>0.401</td><td>8.2</td><td>-16.7791481018</td><td>39.9750763456</td><td>-1.38256906816</td><td>0.000147988853939</td><td>-0.0364665587568</td><td>0.087593388293</td><td>line</td><td>0.188159369721</td><td>0.0742241760398</td><td>0.188159369721</td></tr>\n",
       "<tr><td>54</td><td>Ha-NB704_006587</td><td>NB704</td><td>N/A</td><td>-10.0</td><td>6.48</td><td>-17.1835479736</td><td>37.9388623104</td><td>-3.41878310345</td><td>0.110400836647</td><td>-0.022751036145</td><td>0.05378263129</td><td>line</td><td>0.184698824633</td><td>0.0728590773569</td><td>0.184698824633</td></tr>\n",
       "<tr><td>58</td><td>Ha-NB704_006666</td><td>NB704</td><td>MMT,</td><td>9.9999</td><td>5.87</td><td>-16.8750610352</td><td>38.2473492488</td><td>-3.11029616497</td><td>0.110400836647</td><td>-0.022751036145</td><td>0.05378263129</td><td>line</td><td>0.184698824633</td><td>0.0728590773569</td><td>0.184698824633</td></tr>\n",
       "<tr><td>...</td><td>...</td><td>...</td><td>...</td><td>...</td><td>...</td><td>...</td><td>...</td><td>...</td><td>...</td><td>...</td><td>...</td><td>...</td><td>...</td><td>...</td><td>...</td></tr>\n",
       "<tr><td>7866</td><td>Ha-NB973_163181</td><td>NB973</td><td>N/A</td><td>-10.0</td><td>7.79</td><td>-16.697977066</td><td>40.2556760047</td><td>-1.10196940911</td><td>0.112851557659</td><td>-0.022751036145</td><td>0.05378263129</td><td>line</td><td>0.0</td><td>0.0</td><td>0.0</td></tr>\n",
       "<tr><td>7893</td><td>Ha-NB973_166948</td><td>NB973</td><td>N/A</td><td>-10.0</td><td>8.02</td><td>-16.3932113647</td><td>40.560441706</td><td>-0.797203707816</td><td>0.112851557659</td><td>-0.0241422451479</td><td>0.0571637069903</td><td>line</td><td>0.0</td><td>0.0</td><td>0.0</td></tr>\n",
       "<tr><td>7905</td><td>Ha-NB973_169027</td><td>NB973</td><td>N/A</td><td>-10.0</td><td>8.04</td><td>-16.4683628082</td><td>40.4852902625</td><td>-0.872355151297</td><td>0.112851557659</td><td>-0.0255290118104</td><td>0.0605447826906</td><td>line</td><td>0.0</td><td>0.0</td><td>0.0</td></tr>\n",
       "<tr><td>7914</td><td>Ha-NB973_169597</td><td>NB973</td><td>N/A</td><td>-10.0</td><td>7.42</td><td>-16.6952133179</td><td>40.2584397529</td><td>-1.09920566094</td><td>0.112851557659</td><td>-0.022751036145</td><td>0.05378263129</td><td>line</td><td>0.0</td><td>0.0</td><td>0.0</td></tr>\n",
       "<tr><td>7925</td><td>Ha-NB973_170475</td><td>NB973</td><td>MMT,</td><td>0.4913</td><td>8.07</td><td>-16.3667526245</td><td>40.5973118023</td><td>-0.760333611537</td><td>0.051388958474</td><td>-0.0276008942045</td><td>0.0656163962411</td><td>line</td><td>0.0</td><td>0.0</td><td>0.0</td></tr>\n",
       "<tr><td>7944</td><td>Ha-NB973_173040</td><td>NB973</td><td>N/A</td><td>-10.0</td><td>9.43</td><td>-16.3044338226</td><td>40.6492192481</td><td>-0.708426165702</td><td>0.112851557659</td><td>-0.112447321289</td><td>0.295529543861</td><td>line</td><td>0.436698630525</td><td>0.172266712397</td><td>0.436698630525</td></tr>\n",
       "<tr><td>7954</td><td>Ha-NB973_175125</td><td>NB973</td><td>N/A</td><td>-10.0</td><td>8.35</td><td>-15.9620676041</td><td>40.9915854667</td><td>-0.366059947135</td><td>0.112851557659</td><td>-0.0464762219884</td><td>0.112951456045</td><td>line</td><td>0.0</td><td>0.0</td><td>0.0</td></tr>\n",
       "<tr><td>7956</td><td>Ha-NB973_175345</td><td>NB973</td><td>N/A</td><td>-10.0</td><td>7.29</td><td>-16.7555484772</td><td>40.1981045936</td><td>-1.15954082024</td><td>0.112851557659</td><td>-0.022751036145</td><td>0.05378263129</td><td>line</td><td>0.0</td><td>0.0</td><td>0.0</td></tr>\n",
       "<tr><td>7959</td><td>Ha-NB973_176489</td><td>NB973</td><td>N/A</td><td>-10.0</td><td>8.08</td><td>-16.7552146912</td><td>40.1984383796</td><td>-1.15920703423</td><td>0.112851557659</td><td>-0.0282893309645</td><td>0.0673069340912</td><td>line</td><td>0.0</td><td>0.0</td><td>0.0</td></tr>\n",
       "<tr><td>7963</td><td>Ha-NB973_178201</td><td>NB973</td><td>N/A</td><td>-10.0</td><td>8.4</td><td>-16.5278549194</td><td>40.4257981513</td><td>-0.931847262503</td><td>0.112851557659</td><td>-0.0497621571449</td><td>0.121404145296</td><td>line</td><td>0.0</td><td>0.0</td><td>0.0</td></tr>\n",
       "</table>"
      ],
      "text/plain": [
       "<Table length=1080>\n",
       "  ID                NAME0               ...       EBV       dust_corr_factor\n",
       "int64               str51               ...     float64         float64     \n",
       "----- --------------------------------- ... --------------- ----------------\n",
       "    1                   Ha-NB704_001870 ...  0.659523449619    1.67190157193\n",
       "    4                   Ha-NB704_005232 ...   0.15730329282   0.398766143474\n",
       "    6                   Ha-NB704_005332 ... 0.0728590773569   0.184698824633\n",
       "   13 Ha-NB704_005572_OIII-IA598_028451 ... 0.0728590773569   0.184698824633\n",
       "   24                   Ha-NB704_005882 ... 0.0728590773569   0.184698824633\n",
       "   26                   Ha-NB704_005932 ... 0.0728590773569   0.184698824633\n",
       "   30 OIII-NB704_006046_Ha-NB921_020459 ...  0.113524645271   0.287786632896\n",
       "   42 OIII-NB704_006189_Ha-NB921_021464 ... 0.0742241760398   0.188159369721\n",
       "   54                   Ha-NB704_006587 ... 0.0728590773569   0.184698824633\n",
       "   58                   Ha-NB704_006666 ... 0.0728590773569   0.184698824633\n",
       "  ...                               ... ...             ...              ...\n",
       " 7866                   Ha-NB973_163181 ...             0.0              0.0\n",
       " 7893                   Ha-NB973_166948 ...             0.0              0.0\n",
       " 7905                   Ha-NB973_169027 ...             0.0              0.0\n",
       " 7914                   Ha-NB973_169597 ...             0.0              0.0\n",
       " 7925                   Ha-NB973_170475 ...             0.0              0.0\n",
       " 7944                   Ha-NB973_173040 ...  0.172266712397   0.436698630525\n",
       " 7954                   Ha-NB973_175125 ...             0.0              0.0\n",
       " 7956                   Ha-NB973_175345 ...             0.0              0.0\n",
       " 7959                   Ha-NB973_176489 ...             0.0              0.0\n",
       " 7963                   Ha-NB973_178201 ...             0.0              0.0"
      ]
     },
     "execution_count": 28,
     "metadata": {},
     "output_type": "execute_result"
    }
   ],
   "source": [
    "corr_tbl"
   ]
  },
  {
   "cell_type": "code",
   "execution_count": 29,
   "metadata": {},
   "outputs": [],
   "source": [
    "ebv00 = np.array(corr_tbl['EBV'])\n",
    "mstar00 = np.array(corr_tbl['stlr_mass'])\n",
    "\n",
    "gg = np.where(ebv00 > 0)[0]\n",
    "\n",
    "ebv01 = ebv00[gg]\n",
    "mstar01 = mstar00[gg]\n",
    "zspec01 = np.array(corr_tbl['zspec0'])[gg]\n",
    "\n",
    "zz = np.array([x for x in range(len(zspec01)) if zspec01[x] > 0 and zspec01[x] < 9])\n",
    "\n",
    "ebv02 = ebv01[zz]\n",
    "mstar02 = mstar01[zz]\n",
    "zspec02 = zspec01[zz]\n",
    "filt02 = np.array(corr_tbl['filt'][gg][zz])"
   ]
  },
  {
   "cell_type": "code",
   "execution_count": 30,
   "metadata": {},
   "outputs": [],
   "source": [
    "aa = np.where((corr_tbl['filt']=='NB704') & (corr_tbl['zspec0'] > 0) & (corr_tbl['zspec0'] < 9))\n",
    "bb = np.where((corr_tbl['filt']=='NB711') & (corr_tbl['zspec0'] > 0) & (corr_tbl['zspec0'] < 9))\n",
    "cc = np.where((corr_tbl['filt']=='NB816') & (corr_tbl['zspec0'] > 0) & (corr_tbl['zspec0'] < 9))\n",
    "dd = np.where((corr_tbl['filt']=='NB921') & (corr_tbl['zspec0'] > 0) & (corr_tbl['zspec0'] < 9))\n",
    "ee = np.where((corr_tbl['filt']=='NB973') & (corr_tbl['zspec0'] > 0) & (corr_tbl['zspec0'] < 9))"
   ]
  },
  {
   "cell_type": "code",
   "execution_count": 31,
   "metadata": {},
   "outputs": [],
   "source": [
    "nb704 = np.where(filt02=='NB704')[0]\n",
    "nb711 = np.where(filt02=='NB711')[0]\n",
    "nb816 = np.where(filt02=='NB816')[0]\n",
    "nb921 = np.where(filt02=='NB921')[0]\n",
    "nb973 = np.where(filt02=='NB973')[0]"
   ]
  },
  {
   "cell_type": "code",
   "execution_count": 32,
   "metadata": {},
   "outputs": [
    {
     "data": {
      "text/plain": [
       "(-0.02, 1.4000000000000001)"
      ]
     },
     "execution_count": 32,
     "metadata": {},
     "output_type": "execute_result"
    },
    {
     "data": {
      "image/png": "[encoded data removed]",
      "text/plain": [
       "<matplotlib.figure.Figure at 0x11344b8d0>"
      ]
     },
     "metadata": {},
     "output_type": "display_data"
    }
   ],
   "source": [
    "f, axes = plt.subplots(3,2)\n",
    "f.set_size_inches(15,20)\n",
    "\n",
    "axarr = np.ndarray.flatten(axes)\n",
    "\n",
    "for ax, ii, lab, color in zip(axarr, [aa,bb,cc,dd,ee], \n",
    "                         ['nb704','nb711','nb816','nb921','nb973'], ['blue','cyan','green','orange','red']):\n",
    "    ax.plot(mstar00[ii], ebv00[ii], color, marker='o', ls='None', label=lab, alpha=0.8, markersize=8)\n",
    "    ax.set_ylim([-0.02, 0.3])\n",
    "    ax.set_title(lab)\n",
    "    \n",
    "axarr[-1].plot(mstar00[aa], ebv00[aa], 'blue', marker='o', ls='None', label='nb704', alpha=0.8, markersize=8)\n",
    "axarr[-1].plot(mstar00[bb], ebv00[bb], 'cyan', marker='o', ls='None', label='nb711', alpha=0.8, markersize=8)\n",
    "axarr[-1].plot(mstar00[cc], ebv00[cc], 'green', marker='o', ls='None', label='nb816', alpha=0.8, markersize=8)\n",
    "axarr[-1].plot(mstar00[dd], ebv00[dd], 'orange', marker='o', ls='None', label='nb921', alpha=0.8, markersize=8)\n",
    "axarr[-1].plot(mstar00[ee], ebv00[ee], 'red', marker='o', ls='None', label='nb973', alpha=0.8, markersize=8)\n",
    "axarr[-1].set_ylim(ymin=-0.02)"
   ]
  },
  {
   "cell_type": "code",
   "execution_count": null,
   "metadata": {},
   "outputs": [],
   "source": []
  },
  {
   "cell_type": "code",
   "execution_count": null,
   "metadata": {},
   "outputs": [],
   "source": []
  },
  {
   "cell_type": "code",
   "execution_count": null,
   "metadata": {},
   "outputs": [],
   "source": []
  },
  {
   "cell_type": "code",
   "execution_count": 15,
   "metadata": {},
   "outputs": [
    {
     "data": {
      "text/plain": [
       "ColDefs(\n",
       "    name = 'ID'; format = 'J'; disp = 'I5'\n",
       "    name = 'NAME'; format = '67A'\n",
       "    name = 'RA'; format = 'D'; disp = 'F10.6'\n",
       "    name = 'DEC'; format = 'D'; disp = 'F10.6'\n",
       "    name = 'EXCESS'; format = 'E'; disp = 'F7.4'\n",
       "    name = 'ZPHOT'; format = 'E'; disp = 'F7.4'\n",
       "    name = 'MASS'; format = 'E'; disp = 'F7.3'\n",
       "    name = 'LSFR'; format = 'E'; disp = 'F7.3'\n",
       "    name = 'LSSFR'; format = 'E'; disp = 'F7.3'\n",
       "    name = 'EW'; format = 'E'\n",
       "    name = 'FLUX'; format = 'E'; disp = 'F7.4'\n",
       "    name = 'NB'; format = 'E'; disp = 'F7.4'\n",
       ")"
      ]
     },
     "execution_count": 15,
     "metadata": {},
     "output_type": "execute_result"
    }
   ],
   "source": [
    "nbiadata.columns"
   ]
  },
  {
   "cell_type": "code",
   "execution_count": null,
   "metadata": {},
   "outputs": [],
   "source": []
  },
  {
   "cell_type": "code",
   "execution_count": null,
   "metadata": {},
   "outputs": [],
   "source": []
  },
  {
   "cell_type": "code",
   "execution_count": null,
   "metadata": {},
   "outputs": [],
   "source": []
  },
  {
   "cell_type": "code",
   "execution_count": null,
   "metadata": {},
   "outputs": [],
   "source": []
  },
  {
   "cell_type": "code",
   "execution_count": null,
   "metadata": {},
   "outputs": [],
   "source": []
  },
  {
   "cell_type": "code",
   "execution_count": 16,
   "metadata": {},
   "outputs": [],
   "source": [
    "# from scipy.optimize import curve_fit\n",
    "\n",
    "# def line(x, m, b):\n",
    "#     return m*x + b\n",
    "\n",
    "# xarr = np.concatenate((stlr_mass[no_spectra], stlr_mass[yes_spectra]))\n",
    "# yarr = np.concatenate((dustcorr_sfrs_ns, dustcorr_sfrs_ys))\n",
    "\n",
    "# coeffs, covar = curve_fit(line, xarr, yarr)\n",
    "# coeffs\n",
    "# xx = np.arange(min(xarr), max(xarr), 0.1)\n",
    "\n",
    "# plt.plot(xarr, yarr, 'bo', alpha=0.2)\n",
    "# plt.plot(xx, line(xx, *coeffs), 'k')\n",
    "# plt.show()"
   ]
  },
  {
   "cell_type": "code",
   "execution_count": null,
   "metadata": {},
   "outputs": [],
   "source": []
  },
  {
   "cell_type": "code",
   "execution_count": null,
   "metadata": {},
   "outputs": [],
   "source": []
  },
  {
   "cell_type": "code",
   "execution_count": null,
   "metadata": {},
   "outputs": [],
   "source": []
  },
  {
   "cell_type": "code",
   "execution_count": null,
   "metadata": {},
   "outputs": [],
   "source": []
  }
 ],
 "metadata": {
  "kernelspec": {
   "display_name": "Python 2",
   "language": "python",
   "name": "python2"
  },
  "language_info": {
   "codemirror_mode": {
    "name": "ipython",
    "version": 2
   },
   "file_extension": ".py",
   "mimetype": "text/x-python",
   "name": "python",
   "nbconvert_exporter": "python",
   "pygments_lexer": "ipython2",
   "version": "2.7.13"
  }
 },
 "nbformat": 4,
 "nbformat_minor": 2
}
